{
 "cells": [
  {
   "cell_type": "code",
   "execution_count": 1,
   "metadata": {},
   "outputs": [],
   "source": [
    "import numpy as np"
   ]
  },
  {
   "cell_type": "code",
   "execution_count": 2,
   "metadata": {},
   "outputs": [
    {
     "name": "stdout",
     "output_type": "stream",
     "text": [
      "finish\n",
      "120\n",
      "0\n",
      "0\n",
      "(120, 60, 80)\n"
     ]
    }
   ],
   "source": [
    "######### 上 #########\n",
    "\n",
    "head_str = \"Camera Get Data Success\\n\"\n",
    "end_str = \"End of send first full image\\n\" \n",
    "\n",
    "whole_top = []\n",
    "per_img = []\n",
    "per_row = []\n",
    "\n",
    "row_cnt = 0\n",
    "img_cnt = 0\n",
    "with open('teradata/top/top.txt', 'r') as f:\n",
    "    for i, line in enumerate(f):\n",
    "        if line != head_str:\n",
    "            if line != end_str:\n",
    "#                 per_row.append([int(n) for n in line.strip().split(',')])\n",
    "#                 per_img.append(per_row)\n",
    "#                 per_row = []\n",
    "                per_img.append([int(n) for n in line.strip().split(',')])\n",
    "                row_cnt = row_cnt + 1\n",
    "                if(row_cnt == 60) : #放滿一張圖\n",
    "                    row_cnt = 0\n",
    "                    whole_top.append(per_img)\n",
    "                    per_img = []\n",
    "                    img_cnt = img_cnt + 1                \n",
    "        if(img_cnt == 120) : #放滿所有圖\n",
    "            print('finish')\n",
    "            break\n",
    "            \n",
    "                    \n",
    "print(len(whole_top))\n",
    "print(len(per_img))\n",
    "print(len(per_row))\n",
    "\n",
    "arr_top = np.array(whole_top)\n",
    "arr_top = np.int8(arr_top)\n",
    "print(arr_top.shape)"
   ]
  },
  {
   "cell_type": "code",
   "execution_count": 3,
   "metadata": {},
   "outputs": [
    {
     "name": "stdout",
     "output_type": "stream",
     "text": [
      "finish\n",
      "120\n",
      "0\n",
      "0\n",
      "(120, 60, 80)\n"
     ]
    }
   ],
   "source": [
    "######### 下 #########\n",
    "head_str = \"Camera Get Data Success\\n\"\n",
    "end_str = \"End of send first full image\\n\" \n",
    "\n",
    "whole_top = []\n",
    "per_img = []\n",
    "per_row = []\n",
    "\n",
    "row_cnt = 0\n",
    "img_cnt = 0\n",
    "with open('teradata/down/down.txt', 'r') as f:\n",
    "    for i, line in enumerate(f):\n",
    "        if line != head_str:\n",
    "            if line != end_str:\n",
    "#                 per_row.append([int(n) for n in line.strip().split(',')])\n",
    "#                 per_img.append(per_row)\n",
    "#                 per_row = []\n",
    "                per_img.append([int(n) for n in line.strip().split(',')])\n",
    "                row_cnt = row_cnt + 1\n",
    "                if(row_cnt == 60) : #放滿一張圖\n",
    "                    row_cnt = 0\n",
    "                    whole_top.append(per_img)\n",
    "                    per_img = []\n",
    "                    img_cnt = img_cnt + 1                \n",
    "        if(img_cnt == 120) : #放滿所有圖\n",
    "            print('finish')\n",
    "            break\n",
    "            \n",
    "                    \n",
    "print(len(whole_top))\n",
    "print(len(per_img))\n",
    "print(len(per_row))\n",
    "\n",
    "arr_down = np.array(whole_top)\n",
    "arr_down = np.int8(arr_down)\n",
    "print(arr_down.shape)"
   ]
  },
  {
   "cell_type": "code",
   "execution_count": 4,
   "metadata": {},
   "outputs": [
    {
     "name": "stdout",
     "output_type": "stream",
     "text": [
      "finish\n",
      "120\n",
      "0\n",
      "0\n",
      "(120, 60, 80)\n"
     ]
    }
   ],
   "source": [
    "######### 左 #########\n",
    "head_str = \"Camera Get Data Success\\n\"\n",
    "end_str = \"End of send first full image\\n\" \n",
    "\n",
    "whole_top = []\n",
    "per_img = []\n",
    "per_row = []\n",
    "\n",
    "row_cnt = 0\n",
    "img_cnt = 0\n",
    "with open('teradata/left/left.txt', 'r') as f:\n",
    "    for i, line in enumerate(f):\n",
    "        if line != head_str:\n",
    "            if line != end_str:\n",
    "#                 per_row.append([int(n) for n in line.strip().split(',')])\n",
    "#                 per_img.append(per_row)\n",
    "#                 per_row = []\n",
    "                per_img.append([int(n) for n in line.strip().split(',')])\n",
    "                row_cnt = row_cnt + 1\n",
    "                if(row_cnt == 60) : #放滿一張圖\n",
    "                    row_cnt = 0\n",
    "                    whole_top.append(per_img)\n",
    "                    per_img = []\n",
    "                    img_cnt = img_cnt + 1                \n",
    "        if(img_cnt == 120) : #放滿所有圖\n",
    "            print('finish')\n",
    "            break\n",
    "            \n",
    "                    \n",
    "print(len(whole_top))\n",
    "print(len(per_img))\n",
    "print(len(per_row))\n",
    "\n",
    "arr_left = np.array(whole_top)\n",
    "arr_left = np.int8(arr_left)\n",
    "print(arr_left.shape)"
   ]
  },
  {
   "cell_type": "code",
   "execution_count": 5,
   "metadata": {},
   "outputs": [
    {
     "name": "stdout",
     "output_type": "stream",
     "text": [
      "finish\n",
      "120\n",
      "0\n",
      "0\n",
      "(120, 60, 80)\n"
     ]
    }
   ],
   "source": [
    "######### 右 #########\n",
    "head_str = \"Camera Get Data Success\\n\"\n",
    "end_str = \"End of send first full image\\n\" \n",
    "\n",
    "whole_top = []\n",
    "per_img = []\n",
    "per_row = []\n",
    "\n",
    "row_cnt = 0\n",
    "img_cnt = 0\n",
    "with open('teradata/right/right.txt', 'r') as f:\n",
    "    for i, line in enumerate(f):\n",
    "        if line != head_str:\n",
    "            if line != end_str:\n",
    "#                 per_row.append([int(n) for n in line.strip().split(',')])\n",
    "#                 per_img.append(per_row)\n",
    "#                 per_row = []\n",
    "                per_img.append([int(n) for n in line.strip().split(',')])\n",
    "                row_cnt = row_cnt + 1\n",
    "                if(row_cnt == 60) : #放滿一張圖\n",
    "                    row_cnt = 0\n",
    "                    whole_top.append(per_img)\n",
    "                    per_img = []\n",
    "                    img_cnt = img_cnt + 1                \n",
    "        if(img_cnt == 120) : #放滿所有圖\n",
    "            print('finish')\n",
    "            break\n",
    "            \n",
    "                    \n",
    "print(len(whole_top))\n",
    "print(len(per_img))\n",
    "print(len(per_row))\n",
    "\n",
    "arr_right = np.array(whole_top)\n",
    "arr_right = np.int8(arr_right)\n",
    "print(arr_right.shape)"
   ]
  },
  {
   "cell_type": "code",
   "execution_count": 6,
   "metadata": {},
   "outputs": [
    {
     "name": "stdout",
     "output_type": "stream",
     "text": [
      "finish\n",
      "60\n",
      "0\n",
      "0\n",
      "(60, 60, 80)\n"
     ]
    }
   ],
   "source": [
    "######### 無 #########\n",
    "head_str = \"Camera Get Data Success\\n\"\n",
    "end_str = \"End of send first full image\\n\" \n",
    "\n",
    "whole_top = []\n",
    "per_img = []\n",
    "per_row = []\n",
    "\n",
    "row_cnt = 0\n",
    "img_cnt = 0\n",
    "with open('teradata/no/no.txt', 'r') as f:\n",
    "    for i, line in enumerate(f):\n",
    "        if line != head_str:\n",
    "            if line != end_str:\n",
    "#                 per_row.append([int(n) for n in line.strip().split(',')])\n",
    "#                 per_img.append(per_row)\n",
    "#                 per_row = []\n",
    "                per_img.append([int(n) for n in line.strip().split(',')])\n",
    "                row_cnt = row_cnt + 1\n",
    "                if(row_cnt == 60) : #放滿一張圖\n",
    "                    row_cnt = 0\n",
    "                    whole_top.append(per_img)\n",
    "                    per_img = []\n",
    "                    img_cnt = img_cnt + 1                \n",
    "        if(img_cnt == 60) : #放滿所有圖\n",
    "            print('finish')\n",
    "            break\n",
    "            \n",
    "                    \n",
    "print(len(whole_top))\n",
    "print(len(per_img))\n",
    "print(len(per_row))\n",
    "\n",
    "arr_no = np.array(whole_top)\n",
    "arr_no = np.int8(arr_no)\n",
    "print(arr_no.shape)"
   ]
  },
  {
   "cell_type": "markdown",
   "metadata": {},
   "source": [
    "## Dataset with Label"
   ]
  },
  {
   "cell_type": "code",
   "execution_count": 7,
   "metadata": {},
   "outputs": [
    {
     "name": "stdout",
     "output_type": "stream",
     "text": [
      "(540, 60, 80)\n",
      "int8\n"
     ]
    }
   ],
   "source": [
    "X_data = np.concatenate((arr_top, arr_down, arr_left, arr_right, arr_no), axis=0)\n",
    "print(X_data.shape)\n",
    "print(X_data.dtype)"
   ]
  },
  {
   "cell_type": "code",
   "execution_count": 8,
   "metadata": {},
   "outputs": [
    {
     "name": "stdout",
     "output_type": "stream",
     "text": [
      "(540,)\n",
      "int8\n"
     ]
    }
   ],
   "source": [
    "totol_class = 5\n",
    "y_data_list = []\n",
    "\n",
    "for c in range(totol_class):\n",
    "    if c < 4 :\n",
    "        for i in range(120):\n",
    "            y_data_list.append(c)\n",
    "    else:\n",
    "        for i in range(60):\n",
    "            y_data_list.append(c)\n",
    "            \n",
    "y_data = np.array(y_data_list)\n",
    "y_data = np.int8(y_data)\n",
    "print(y_data.shape)\n",
    "print(y_data.dtype)"
   ]
  },
  {
   "cell_type": "markdown",
   "metadata": {},
   "source": [
    "## Train/Test split "
   ]
  },
  {
   "cell_type": "code",
   "execution_count": 9,
   "metadata": {},
   "outputs": [
    {
     "name": "stdout",
     "output_type": "stream",
     "text": [
      "(486, 60, 80)\n",
      "(54, 60, 80)\n",
      "[2 2 0 0 1 2 3 1 0 2 1 2 1 3 1 1 1 3 2 1 3 4 0 0 1 1 3 1 1 0 2 1 1 0 0 3 0\n",
      " 4 4 4 2 0 0 2 2 3 2 2 0 1 2 3 3 0 3 0 2 3 1 0 2 4 2 1 4 1 3 2 2 2 3 2 1 1\n",
      " 3 3 3 4 2 0 3 1 0 2 0 1 1 0 3 0 2 4 4 1 2 3 3 0 1 4 3 4 0 0 0 0 2 1 4 0 4\n",
      " 4 3 3 2 0 3 0 3 0 2 3 0 1 1 0 2 0 2 0 0 4 2 3 1 3 0 0 3 2 0 3 0 3 1 1 0 3\n",
      " 1 4 2 1 1 1 0 1 0 2 2 4 4 3 0 2 2 4 1 0 0 2 1 0 1 0 0 2 3 3 1 0 4 4 0 3 1\n",
      " 1 2 3 0 0 2 2 2 2 3 3 1 4 2 3 0 1 3 1 0 1 2 2 2 3 4 1 3 0 1 2 3 3 3 2 0 2\n",
      " 0 4 0 2 4 3 1 2 3 4 4 1 3 1 4 2 0 2 2 3 0 3 0 2 4 4 3 2 3 1 1 2 3 3 2 2 3\n",
      " 0 0 1 2 3 4 3 3 4 1 0 2 0 0 0 0 1 3 3 0 1 3 0 1 0 3 2 3 2 0 2 0 4 2 3 3 2\n",
      " 4 0 1 1 3 0 3 4 1 3 0 1 0 4 2 3 1 2 3 0 3 1 0 2 1 1 1 2 1 1 1 1 0 1 3 2 0\n",
      " 2 4 3 2 0 2 0 3 3 4 1 2 2 1 1 0 2 0 1 3 0 2 1 1 1 4 0 3 3 1 1 4 0 0 0 4 4\n",
      " 1 4 3 0 1 4 3 1 1 2 2 3 3 3 1 0 3 4 3 2 0 2 1 1 2 0 0 1 0 1 1 1 2 4 4 0 0\n",
      " 3 3 2 0 2 3 4 1 2 2 0 1 3 1 3 0 3 2 1 1 2 2 3 2 2 2 4 1 2 1 3 3 2 2 3 3 2\n",
      " 1 2 1 2 2 4 2 1 2 2 1 1 3 4 3 3 3 3 3 3 0 0 2 1 0 3 0 1 1 0 1 3 0 3 4 3 4\n",
      " 4 2 0 2 0]\n",
      "[2 2 3 0 0 1 0 3 3 2 4 3 1 0 0 2 4 1 3 2 0 2 2 1 3 1 3 2 2 3 0 1 1 4 2 1 1\n",
      " 4 3 0 0 3 4 0 1 2 4 0 1 3 2 0 1 3]\n"
     ]
    }
   ],
   "source": [
    "# Train split  \n",
    "from sklearn.model_selection import train_test_split\n",
    "X_train, X_test, y_train, y_test = train_test_split(X_data, y_data, test_size=0.1, random_state=555, stratify=y_data)\n",
    "print(X_train.shape)\n",
    "print(X_test.shape)\n",
    "print(y_train)\n",
    "print(y_test)"
   ]
  },
  {
   "cell_type": "markdown",
   "metadata": {},
   "source": [
    "## Image Preprocessing  and Model Building"
   ]
  },
  {
   "cell_type": "code",
   "execution_count": 10,
   "metadata": {},
   "outputs": [
    {
     "name": "stdout",
     "output_type": "stream",
     "text": [
      "(486, 60, 80, 1)\n",
      "[[0. 0. 1. 0. 0.]\n",
      " [0. 0. 1. 0. 0.]\n",
      " [1. 0. 0. 0. 0.]\n",
      " ...\n",
      " [1. 0. 0. 0. 0.]\n",
      " [0. 0. 1. 0. 0.]\n",
      " [1. 0. 0. 0. 0.]]\n"
     ]
    }
   ],
   "source": [
    "from tensorflow.keras.layers import Conv2D, MaxPooling2D, Dense\n",
    "from tensorflow.keras.layers import Activation, BatchNormalization, Flatten\n",
    "from tensorflow.keras.models import Sequential\n",
    "from tensorflow.keras.utils import to_categorical\n",
    "\n",
    "img_rows = 60\n",
    "img_cols = 80\n",
    "num_classes = 5\n",
    "input_shape = (img_rows, img_cols, 1)\n",
    "filter_x = 5\n",
    "filter_y = 5\n",
    "\n",
    "X_train = X_train.astype('float32')\n",
    "\n",
    "train_images = X_train.reshape(X_train.shape[0], X_train.shape[1], X_train.shape[2], 1)\n",
    "train_labels = to_categorical(y_train, num_classes, dtype='float32')\n",
    "# \n",
    "\n",
    "print(train_images.shape)\n",
    "print(train_labels)"
   ]
  },
  {
   "cell_type": "code",
   "execution_count": 11,
   "metadata": {},
   "outputs": [
    {
     "name": "stdout",
     "output_type": "stream",
     "text": [
      "Model: \"sequential\"\n",
      "_________________________________________________________________\n",
      "Layer (type)                 Output Shape              Param #   \n",
      "=================================================================\n",
      "conv2d (Conv2D)              (None, 60, 80, 16)        416       \n",
      "_________________________________________________________________\n",
      "batch_normalization (BatchNo (None, 60, 80, 16)        64        \n",
      "_________________________________________________________________\n",
      "activation (Activation)      (None, 60, 80, 16)        0         \n",
      "_________________________________________________________________\n",
      "max_pooling2d (MaxPooling2D) (None, 30, 40, 16)        0         \n",
      "_________________________________________________________________\n",
      "conv2d_1 (Conv2D)            (None, 30, 40, 32)        12832     \n",
      "_________________________________________________________________\n",
      "batch_normalization_1 (Batch (None, 30, 40, 32)        128       \n",
      "_________________________________________________________________\n",
      "activation_1 (Activation)    (None, 30, 40, 32)        0         \n",
      "_________________________________________________________________\n",
      "max_pooling2d_1 (MaxPooling2 (None, 15, 20, 32)        0         \n",
      "_________________________________________________________________\n",
      "conv2d_2 (Conv2D)            (None, 15, 20, 32)        25632     \n",
      "_________________________________________________________________\n",
      "batch_normalization_2 (Batch (None, 15, 20, 32)        128       \n",
      "_________________________________________________________________\n",
      "activation_2 (Activation)    (None, 15, 20, 32)        0         \n",
      "_________________________________________________________________\n",
      "max_pooling2d_2 (MaxPooling2 (None, 7, 10, 32)         0         \n",
      "_________________________________________________________________\n",
      "flatten (Flatten)            (None, 2240)              0         \n",
      "_________________________________________________________________\n",
      "dense (Dense)                (None, 64)                143424    \n",
      "_________________________________________________________________\n",
      "batch_normalization_3 (Batch (None, 64)                256       \n",
      "_________________________________________________________________\n",
      "activation_3 (Activation)    (None, 64)                0         \n",
      "_________________________________________________________________\n",
      "dense_1 (Dense)              (None, 5)                 325       \n",
      "_________________________________________________________________\n",
      "activation_4 (Activation)    (None, 5)                 0         \n",
      "=================================================================\n",
      "Total params: 183,205\n",
      "Trainable params: 182,917\n",
      "Non-trainable params: 288\n",
      "_________________________________________________________________\n",
      "None\n"
     ]
    }
   ],
   "source": [
    "#model building\n",
    "model = Sequential()\n",
    "\n",
    "#Conv1\n",
    "model.add(Conv2D(filters=16, \n",
    "                 kernel_size=(filter_x, filter_y), \n",
    "                 padding=\"same\",  \n",
    "                 input_shape=input_shape))\n",
    "model.add(BatchNormalization())\n",
    "model.add(Activation(\"relu\"))\n",
    "model.add(MaxPooling2D())\n",
    "\n",
    "#Conv2\n",
    "model.add(Conv2D(filters=32, \n",
    "                 kernel_size=(filter_x, filter_y), \n",
    "                 padding=\"same\", \n",
    "                 input_shape=input_shape))\n",
    "model.add(BatchNormalization())\n",
    "model.add(Activation(\"relu\"))\n",
    "model.add(MaxPooling2D())\n",
    "\n",
    "#Conv3\n",
    "model.add(Conv2D(filters=32, \n",
    "                 kernel_size=(filter_x, filter_y), \n",
    "                 padding=\"same\", \n",
    "                 input_shape=input_shape))\n",
    "model.add(BatchNormalization())\n",
    "model.add(Activation(\"relu\"))\n",
    "model.add(MaxPooling2D())\n",
    "\n",
    "#FC1\n",
    "model.add(Flatten())\n",
    "model.add(Dense(64))\n",
    "model.add(BatchNormalization())\n",
    "model.add(Activation(\"relu\"))\n",
    "\n",
    "#FC2\n",
    "model.add(Dense(num_classes))\n",
    "model.add(Activation(\"softmax\"))\n",
    "\n",
    "\n",
    "model.compile(optimizer='adam',\n",
    "              loss='categorical_crossentropy',\n",
    "              metrics=['accuracy'])\n",
    "\n",
    "\n",
    "print(model.summary())"
   ]
  },
  {
   "cell_type": "markdown",
   "metadata": {},
   "source": [
    "## Training "
   ]
  },
  {
   "cell_type": "code",
   "execution_count": 12,
   "metadata": {},
   "outputs": [],
   "source": [
    "# epochs = 20\n",
    "# batch_size = 18\n",
    "\n",
    "# model.fit(train_images, train_labels,\n",
    "#           validation_split = 0.1,\n",
    "#           batch_size = batch_size,\n",
    "#           epochs = epochs,\n",
    "#           verbose = 1,\n",
    "#          )\n",
    "# model.save_weights('himaxCam_model_0723.h5')"
   ]
  },
  {
   "cell_type": "code",
   "execution_count": 13,
   "metadata": {},
   "outputs": [],
   "source": [
    "model.load_weights('himaxCam_model_0723.h5')"
   ]
  },
  {
   "cell_type": "markdown",
   "metadata": {},
   "source": [
    "## Testing"
   ]
  },
  {
   "cell_type": "code",
   "execution_count": 14,
   "metadata": {},
   "outputs": [
    {
     "name": "stdout",
     "output_type": "stream",
     "text": [
      "(54, 60, 80, 1)\n",
      "(54, 5)\n"
     ]
    }
   ],
   "source": [
    "# Test image = X_test (54, 60, 80)\n",
    "# Test label = y_test (54, )\n",
    "# shuffled in train_test_split\n",
    "test_images = X_test.reshape(X_test.shape[0], X_test.shape[1], X_test.shape[2], 1)\n",
    "test_labels = to_categorical(y_test, num_classes, dtype='float32')\n",
    "print(test_images.shape)\n",
    "print(test_labels.shape)"
   ]
  },
  {
   "cell_type": "code",
   "execution_count": 15,
   "metadata": {},
   "outputs": [
    {
     "name": "stdout",
     "output_type": "stream",
     "text": [
      "2/2 [==============================] - 0s 10ms/step - loss: 0.0027 - accuracy: 1.0000\n",
      "test Loss:      0.0027194267604500055\n",
      "test Accuracy:  1.0\n"
     ]
    }
   ],
   "source": [
    "score = model.evaluate(test_images, test_labels, verbose=1)\n",
    "print('test Loss:     ', score[0])\n",
    "print('test Accuracy: ', score[1])"
   ]
  },
  {
   "cell_type": "markdown",
   "metadata": {},
   "source": [
    "## Convert model into TFLM format"
   ]
  },
  {
   "cell_type": "code",
   "execution_count": 16,
   "metadata": {},
   "outputs": [],
   "source": [
    "import tensorflow.compat.v2 as tf\n",
    "converter = tf.lite.TFLiteConverter.from_keras_model(model) #a converted model with no quantization:\n",
    "converter.optimizations = [tf.lite.Optimize.DEFAULT] #quantize weights into int8 other variables still in float format\n",
    "converter.target_spec.supported_ops = [tf.lite.OpsSet.TFLITE_BUILTINS_INT8]\n",
    "converter.inference_input_type = tf.int8  #quantize activations to int8\n",
    "converter.inference_output_type = tf.int8 #"
   ]
  },
  {
   "cell_type": "code",
   "execution_count": 17,
   "metadata": {},
   "outputs": [],
   "source": [
    "preprocessed_train_images = train_images\n",
    "preprocessed_train_images = tf.cast(preprocessed_train_images, tf.float32)\n",
    "emnist_ds = tf.data.Dataset.from_tensor_slices((preprocessed_train_images)).batch(1) #construct a dataset \n",
    "\n",
    "def representative_data_gen():\n",
    "    for input_value in emnist_ds.take(450): \n",
    "        yield [input_value]\n",
    "    \n",
    "converter.representative_dataset = representative_data_gen"
   ]
  },
  {
   "cell_type": "code",
   "execution_count": 18,
   "metadata": {},
   "outputs": [
    {
     "name": "stdout",
     "output_type": "stream",
     "text": [
      "WARNING:tensorflow:From C:\\Users\\YG\\AppData\\Roaming\\Python\\Python37\\site-packages\\tensorflow\\python\\training\\tracking\\tracking.py:111: Model.state_updates (from tensorflow.python.keras.engine.training) is deprecated and will be removed in a future version.\n",
      "Instructions for updating:\n",
      "This property should not be used in TensorFlow 2.0, as updates are applied automatically.\n",
      "WARNING:tensorflow:From C:\\Users\\YG\\AppData\\Roaming\\Python\\Python37\\site-packages\\tensorflow\\python\\training\\tracking\\tracking.py:111: Layer.updates (from tensorflow.python.keras.engine.base_layer) is deprecated and will be removed in a future version.\n",
      "Instructions for updating:\n",
      "This property should not be used in TensorFlow 2.0, as updates are applied automatically.\n",
      "INFO:tensorflow:Assets written to: C:\\Users\\YG\\AppData\\Local\\Temp\\tmpepv3iyg5\\assets\n"
     ]
    },
    {
     "data": {
      "text/plain": [
       "191200"
      ]
     },
     "execution_count": 18,
     "metadata": {},
     "output_type": "execute_result"
    }
   ],
   "source": [
    "import pathlib\n",
    "\n",
    "converted_model = converter.convert()\n",
    "\n",
    "generated_dir = pathlib.Path(\"generated/\")\n",
    "generated_dir.mkdir(exist_ok=True, parents=True)\n",
    "converted_model_file = generated_dir/\"himaxCam_model_0723_int8.tflite\"\n",
    "converted_model_file.write_bytes(converted_model)"
   ]
  },
  {
   "cell_type": "markdown",
   "metadata": {},
   "source": [
    "## Evaluate Model"
   ]
  },
  {
   "cell_type": "code",
   "execution_count": 19,
   "metadata": {},
   "outputs": [],
   "source": [
    "interpreter = tf.lite.Interpreter(model_path=str(converted_model_file))\n",
    "interpreter.allocate_tensors()"
   ]
  },
  {
   "cell_type": "code",
   "execution_count": 20,
   "metadata": {},
   "outputs": [],
   "source": [
    "max_samples = 50\n",
    "preprocessed_test_images = test_images\n",
    "preprocessed_test_images = tf.cast(preprocessed_test_images, tf.float32)"
   ]
  },
  {
   "cell_type": "code",
   "execution_count": 21,
   "metadata": {},
   "outputs": [],
   "source": [
    "# A helper function to evaluate the TF Lite model using \"test\" dataset.\n",
    "def evaluate_model(interpreter):\n",
    "    input_index = interpreter.get_input_details()[0][\"index\"]\n",
    "    output_index = interpreter.get_output_details()[0][\"index\"]\n",
    "    scale, zero_point = interpreter.get_output_details()[0]['quantization']\n",
    "\n",
    "    prediction_values = []\n",
    "    \n",
    "    for test_image in preprocessed_test_images[:max_samples]:\n",
    "        # Pre-processing: add batch dimension, quantize and convert inputs to int8 to match with\n",
    "        # the model's input data format.\n",
    "        test_image = np.expand_dims(test_image, axis=0) #.astype(np.float32)\n",
    "        test_image = np.int8(test_image)\n",
    "#         test_image = np.int8(test_image / scale + zero_point)\n",
    "        interpreter.set_tensor(input_index, test_image)\n",
    "        interpreter.invoke()\n",
    "\n",
    "        # Find the letter with highest probability\n",
    "        output = interpreter.tensor(output_index)\n",
    "        result = np.argmax(output()[0])\n",
    "        prediction_values.append(result)\n",
    "\n",
    "    accurate_count = 0\n",
    "    for index in range(len(prediction_values)):\n",
    "        for i in range(5):\n",
    "            if test_labels[index][i]==1:\n",
    "                y_class=i\n",
    "        if (prediction_values[index] == y_class):\n",
    "            accurate_count += 1\n",
    "    accuracy = accurate_count * 1.0 / len(prediction_values)\n",
    "\n",
    "    return accuracy * 100"
   ]
  },
  {
   "cell_type": "code",
   "execution_count": 22,
   "metadata": {},
   "outputs": [
    {
     "name": "stdout",
     "output_type": "stream",
     "text": [
      "86.0%\n"
     ]
    }
   ],
   "source": [
    "print(str(evaluate_model(interpreter)) + \"%\")"
   ]
  },
  {
   "cell_type": "markdown",
   "metadata": {},
   "source": [
    "## Create a test set for target application"
   ]
  },
  {
   "cell_type": "code",
   "execution_count": 23,
   "metadata": {},
   "outputs": [
    {
     "name": "stdout",
     "output_type": "stream",
     "text": [
      "(60, 80, 1)\n"
     ]
    },
    {
     "data": {
      "image/png": "[encoded data removed]",
      "text/plain": [
       "<Figure size 360x360 with 25 Axes>"
      ]
     },
     "metadata": {
      "needs_background": "light"
     },
     "output_type": "display_data"
    }
   ],
   "source": [
    "import random\n",
    "import matplotlib.pyplot as plt\n",
    "\n",
    "num_of_samples = 25\n",
    "random_test_images = random.sample(range(1, test_images.shape[0]), num_of_samples)\n",
    "print(test_images[0].shape)\n",
    "fig=plt.figure(figsize=(5, 5))\n",
    "cols = 5\n",
    "rows = 5\n",
    "\n",
    "for plt_idx, img_idx in enumerate(random_test_images, 1):\n",
    "    img = test_images[img_idx]\n",
    "    fig.add_subplot(rows, cols, plt_idx)\n",
    "    plt.imshow(img)\n",
    "plt.show()"
   ]
  },
  {
   "cell_type": "code",
   "execution_count": 24,
   "metadata": {},
   "outputs": [],
   "source": [
    "samples_file = open(\"generated/test_samples.cc\", \"w\")\n",
    "\n",
    "samples_file.write(\"#include \\\"test_samples.h\\\"\\n\\n\")\n",
    "samples_file.write(\"const int kNumSamples = \" + str(num_of_samples) + \";\\n\\n\")\n",
    "\n",
    "samples = \"\" \n",
    "samples_array = \"const TestSample test_samples[kNumSamples] = {\"\n",
    "\n",
    "for sample_idx, img_idx in enumerate(random_test_images, 1):\n",
    "    img_arr = list(np.ndarray.flatten(test_images[img_idx]))\n",
    "    var_name = \"sample\" + str(sample_idx)\n",
    "    samples += \"TestSample \" + var_name + \" = {\\n\" #+ \"[IMAGE_SIZE] = { \"\n",
    "    samples += \"\\t.label = \" + str(test_labels[img_idx]) + \",\\n\" \n",
    "    samples += \"\\t.image = {\\n\"\n",
    "    wrapped_arr = [img_arr[i:i + 20] for i in range(0, len(img_arr), 20)]\n",
    "    for sub_arr in wrapped_arr:\n",
    "        samples += \"\\t\\t\" + str(sub_arr)\n",
    "    samples += \"\\t}\\n};\\n\\n\"    \n",
    "    samples_array += var_name + \", \"\n",
    "    \n",
    "samples = samples.replace(\"[\", \"\")\n",
    "samples = samples.replace(\"]\", \",\\n\")\n",
    "samples_array += \"};\\n\"\n",
    "\n",
    "samples_file.write(samples);\n",
    "samples_file.write(samples_array);\n",
    "samples_file.close()"
   ]
  }
 ],
 "metadata": {
  "kernelspec": {
   "display_name": "Python 3",
   "language": "python",
   "name": "python3"
  },
  "language_info": {
   "codemirror_mode": {
    "name": "ipython",
    "version": 3
   },
   "file_extension": ".py",
   "mimetype": "text/x-python",
   "name": "python",
   "nbconvert_exporter": "python",
   "pygments_lexer": "ipython3",
   "version": "3.7.10"
  }
 },
 "nbformat": 4,
 "nbformat_minor": 4
}
